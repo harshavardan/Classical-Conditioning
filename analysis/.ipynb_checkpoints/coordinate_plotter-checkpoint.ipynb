{
 "cells": [
  {
   "cell_type": "code",
   "execution_count": 2,
   "metadata": {},
   "outputs": [
    {
     "ename": "ModuleNotFoundError",
     "evalue": "No module named 'scipy.fft'",
     "output_type": "error",
     "traceback": [
      "\u001b[1;31m---------------------------------------------------------------------------\u001b[0m",
      "\u001b[1;31mModuleNotFoundError\u001b[0m                       Traceback (most recent call last)",
      "\u001b[1;32m<ipython-input-2-2564baf768c8>\u001b[0m in \u001b[0;36m<module>\u001b[1;34m()\u001b[0m\n\u001b[0;32m      7\u001b[0m \u001b[1;32mimport\u001b[0m \u001b[0mnumpy\u001b[0m \u001b[1;32mas\u001b[0m \u001b[0mnp\u001b[0m\u001b[1;33m\u001b[0m\u001b[0m\n\u001b[0;32m      8\u001b[0m \u001b[1;32mfrom\u001b[0m \u001b[0moperator\u001b[0m \u001b[1;32mimport\u001b[0m \u001b[0madd\u001b[0m\u001b[1;33m\u001b[0m\u001b[0m\n\u001b[1;32m----> 9\u001b[1;33m \u001b[1;32mfrom\u001b[0m \u001b[0mscipy\u001b[0m\u001b[1;33m.\u001b[0m\u001b[0mfft\u001b[0m \u001b[1;32mimport\u001b[0m \u001b[0mfft\u001b[0m\u001b[1;33m,\u001b[0m \u001b[0mfftfreq\u001b[0m\u001b[1;33m\u001b[0m\u001b[0m\n\u001b[0m",
      "\u001b[1;31mModuleNotFoundError\u001b[0m: No module named 'scipy.fft'"
     ]
    }
   ],
   "source": [
    "import csv\n",
    "import matplotlib.pyplot as plt\n",
    "import pandas as pd\n",
    "import statistics as stats\n",
    "import scipy.signal\n",
    "import matplotlib.axes as maxes\n",
    "import numpy as np\n",
    "from operator import add\n",
    "from scipy.fft import fft, fftfreq"
   ]
  },
  {
   "cell_type": "markdown",
   "metadata": {},
   "source": [
    "# Load all coordinates and calculate distance"
   ]
  },
  {
   "cell_type": "code",
   "execution_count": null,
   "metadata": {},
   "outputs": [],
   "source": [
    "dist = []\n",
    "for i in range(1, 101):\n",
    "    x = []\n",
    "    y = []\n",
    "    temp_dist = []\n",
    "    count = 0\n",
    "    with open(\"//storage.ncbs.res.in/harshavardanbn/data/210419/F2/coordinates\" + str(i) + \".csv\") as csv_file:\n",
    "        csv_reader = csv.reader(csv_file, delimiter = \",\")\n",
    "        for row in csv_reader:\n",
    "            if count == 1000:\n",
    "                break\n",
    "            if len(row) == 0:\n",
    "                continue\n",
    "            if row == [\"x\", \"y\"]:\n",
    "                continue\n",
    "            count += 1\n",
    "            x.append(row[0])\n",
    "            y.append(row[1])\n",
    "            if len(x) > 1:\n",
    "                temp_dist.append(((float(x[-1]) - float(x[-2]))**2 + (float(y[-1]) - float(y[-2]))**2)**0.5)\n",
    "    dist.append(temp_dist)\n",
    "print(\"Number of files found = \", len(dist))"
   ]
  },
  {
   "cell_type": "markdown",
   "metadata": {},
   "source": [
    "# Plot individual traces for baseline trials"
   ]
  },
  {
   "cell_type": "code",
   "execution_count": null,
   "metadata": {
    "scrolled": false
   },
   "outputs": [],
   "source": [
    "for i in range(5):\n",
    "    plt.figure(figsize = (20, 2))\n",
    "    plt.plot(dist[i], \"k\")\n",
    "    plt.ylim(0, 75)\n",
    "    plt.fill_between((100, 300), (75, 75), color = \"lightblue\")\n",
    "    plt.fill_between((299.5, 300), (75, 75), color = \"red\")\n",
    "    plt.title(\"Baseline trial \" + str(i + 1))\n",
    "    plt.show()\n",
    "    \n",
    "avg = []\n",
    "for i in range(len(dist[0])):\n",
    "    temp = []\n",
    "    for j in range(5):\n",
    "        temp.append(dist[j][i])\n",
    "    avg.append(stats.mean(temp))\n",
    "    \n",
    "plt.figure(figsize = (20, 2))\n",
    "plt.plot(avg, \"k\")\n",
    "plt.ylim(0, 75)\n",
    "plt.fill_between((100, 300), (75, 75), color = \"lightblue\")\n",
    "plt.fill_between((299.5, 300), (75, 75), color = \"red\")\n",
    "plt.title(\"Average\")\n",
    "plt.show()\n",
    "\n",
    "\n",
    "# Number of samples in normalized_tone\n",
    "N = len(dist[0])\n",
    "SAMPLE_RATE = 50\n",
    "\n",
    "yf = fft(dist[0])\n",
    "xf = fftfreq(N, 1 / SAMPLE_RATE)\n",
    "\n",
    "plt.plot(xf, np.abs(yf))\n",
    "plt.show()"
   ]
  },
  {
   "cell_type": "code",
   "execution_count": null,
   "metadata": {
    "scrolled": false
   },
   "outputs": [],
   "source": [
    "for i in range(81, 101):\n",
    "    plt.figure(figsize = (20, 2))\n",
    "    plt.plot(dist[i], \"k\")\n",
    "    plt.ylim(0, 75)\n",
    "    plt.fill_between((100, 300), (75, 75), color = \"lightblue\")\n",
    "    plt.fill_between((299.5, 300), (75, 75), color = \"red\")\n",
    "    plt.title(\"Baseline trial \" + str(i + 1))\n",
    "    plt.show()"
   ]
  },
  {
   "cell_type": "markdown",
   "metadata": {},
   "source": [
    "# Find peaks"
   ]
  },
  {
   "cell_type": "code",
   "execution_count": null,
   "metadata": {
    "scrolled": false
   },
   "outputs": [],
   "source": [
    "all_peaks = []\n",
    "for i in range(5):\n",
    "    peaks, _ = scipy.signal.find_peaks(dist[i], height = 1, width = 5)\n",
    "    plt.figure(figsize = (20, 5))\n",
    "    plt.plot(dist[i], \"k\")\n",
    "    plt.plot(dist[i][peaks], \"x\", color = \"r\")\n",
    "    plt.ylim(0, 30)\n",
    "    plt.fill_between((300, 900), (30, 30), color = \"lightblue\")\n",
    "    plt.show()\n",
    "    all_peaks.append(peaks)\n",
    "    \n",
    "plt.figure(figsize = (20, 5))\n",
    "plt.fill_between((300, 900), (5, 5), color = \"lightblue\")\n",
    "plt.xlim(0, len(dist[0]))\n",
    "plt.eventplot(all_peaks, color = \"k\")"
   ]
  },
  {
   "cell_type": "code",
   "execution_count": null,
   "metadata": {
    "scrolled": false
   },
   "outputs": [],
   "source": [
    "for i in range(5, 15):\n",
    "    plt.figure(figsize = (20, 5))\n",
    "    plt.plot(dist[i], \"k\")\n",
    "    plt.ylim(0, 30)\n",
    "    plt.fill_between((300, 900), (30, 30), color = \"lightblue\")\n",
    "    plt.fill_between((898.5, 900), (30, 30), color = \"red\")\n",
    "    plt.title(\"Training trial \" + str(i - 4))\n",
    "    plt.show()"
   ]
  },
  {
   "cell_type": "code",
   "execution_count": null,
   "metadata": {
    "scrolled": false
   },
   "outputs": [],
   "source": [
    "all_peaks = []\n",
    "for i in range(5, 15):\n",
    "    peaks, _ = scipy.signal.find_peaks(dist[i], height = 1, width = 5)\n",
    "    plt.figure(figsize = (20, 5))\n",
    "    plt.plot(dist[i], \"k\")\n",
    "    plt.plot(dist[i][peaks], \"x\", color = \"r\")\n",
    "    plt.ylim(0, 30)\n",
    "    plt.fill_between((300, 900), (30, 30), color = \"lightblue\")\n",
    "    plt.fill_between((898.5, 900), (30, 30), color = \"red\")\n",
    "    plt.show()\n",
    "    all_peaks.append(peaks)\n",
    "    \n",
    "plt.figure(figsize = (20, 5))\n",
    "plt.fill_between((300, 900), (5, 5), color = \"lightblue\")\n",
    "plt.xlim(0, len(dist[0]))\n",
    "plt.eventplot(all_peaks, color = \"k\")"
   ]
  },
  {
   "cell_type": "code",
   "execution_count": null,
   "metadata": {},
   "outputs": [],
   "source": [
    "for i in range(15, 20):\n",
    "    plt.figure(figsize = (20, 5))\n",
    "    plt.plot(dist[i], \"k\")\n",
    "    plt.ylim(0, 30)\n",
    "    plt.fill_between((300, 900), (30, 30), color = \"lightblue\")\n",
    "    plt.title(\"Test trial \" + str(i - 14))\n",
    "    plt.show()"
   ]
  },
  {
   "cell_type": "code",
   "execution_count": null,
   "metadata": {
    "scrolled": false
   },
   "outputs": [],
   "source": [
    "for i in range(len(dist)):\n",
    "    plt.figure(figsize = (20, 5))\n",
    "    plt.plot(dist[i], \"k\")\n",
    "    plt.ylim(0, 30)\n",
    "    plt.fill_between((500, 900), (30, 30), color = \"lightblue\")\n",
    "    plt.fill_between((898.5, 900), (30, 30), color = \"red\", alpha = 0.5)\n",
    "    plt.show()"
   ]
  },
  {
   "cell_type": "code",
   "execution_count": null,
   "metadata": {
    "scrolled": false
   },
   "outputs": [],
   "source": [
    "plt.figure(figsize = (20, 10))\n",
    "for i in range(len(dist)):\n",
    "    plt.plot((stats.mean(dist[i][100:490]), stats.mean(dist[i][500:890]), stats.mean(dist[i][890:1280])),\n",
    "             \"lightgray\")\n",
    "plt.plot((stats.mean(avg[100:490]), stats.mean(avg[500:890]), stats.mean(avg[890:1280])), \"k\")\n",
    "plt.ylim(0, )"
   ]
  },
  {
   "cell_type": "code",
   "execution_count": null,
   "metadata": {
    "scrolled": false
   },
   "outputs": [],
   "source": [
    "all_peaks = []\n",
    "for i in range(len(dist)):\n",
    "    peaks, _ = scipy.signal.find_peaks(dist[i], height = 2, width = 7)\n",
    "    plt.figure(figsize = (20, 5))\n",
    "    plt.plot(dist[i], \"k\")\n",
    "    plt.plot(dist[i][peaks], \"x\", color = \"r\")\n",
    "    plt.ylim(0, 30)\n",
    "    plt.fill_between((510, 910), (30, 30), color = \"lightblue\")\n",
    "    plt.fill_between((900, 910), (30, 30), color = \"red\", alpha = 0.5)\n",
    "    plt.show()\n",
    "    all_peaks.append(peaks)"
   ]
  },
  {
   "cell_type": "code",
   "execution_count": null,
   "metadata": {},
   "outputs": [],
   "source": [
    "plt.figure(figsize = (20, 5))\n",
    "plt.eventplot(all_peaks)"
   ]
  },
  {
   "cell_type": "code",
   "execution_count": null,
   "metadata": {},
   "outputs": [],
   "source": [
    "avg = [0, 0, 0]\n",
    "for i in range(len(all_peaks)):\n",
    "    peak_count = [0, 0, 0]\n",
    "    for j in all_peaks[i]:\n",
    "        if (j < 490) & (j >= 90):\n",
    "            peak_count[0] +=1\n",
    "        elif (j < 890) & (j >= 490):\n",
    "            peak_count[1] += 1\n",
    "        elif (j < 1290) & (j >= 890):\n",
    "            peak_count[2] += 1\n",
    "    plt.plot(peak_count, \"lightgray\")\n",
    "    avg = list(map(add, avg, peak_count))\n",
    "plt.xticks([0, 1, 2])\n",
    "\n",
    "for i in range(len(avg)):\n",
    "    avg[i] = avg[i] / len(all_peaks)\n",
    "\n",
    "plt.plot(avg, \"x\", color = \"k\")\n",
    "plt.plot(avg, color = \"k\")"
   ]
  },
  {
   "cell_type": "code",
   "execution_count": null,
   "metadata": {},
   "outputs": [],
   "source": [
    "plt.figure(figsize = (20, 10))\n",
    "for i in range(len(swims)):\n",
    "    for j in range(len(swims[0])):\n",
    "        if swims[i][j] == 25:\n",
    "            plt.plot(j, i/10.0, \"x\", c = \"k\")\n",
    "plt.fill_between((100, 300), (2, 2), color = \"lightblue\")"
   ]
  },
  {
   "cell_type": "code",
   "execution_count": null,
   "metadata": {},
   "outputs": [],
   "source": [
    "count = []\n",
    "for i in range(len(swims)):\n",
    "    temp = 0\n",
    "    swimming = 0\n",
    "    for j in range(len(swims[0])):\n",
    "        if (swims[i][j] == 25):\n",
    "            if swimming == 0:\n",
    "                temp += 1\n",
    "                swimming = 1\n",
    "        else:\n",
    "            swimming = 0\n",
    "    count.append(temp)"
   ]
  },
  {
   "cell_type": "code",
   "execution_count": null,
   "metadata": {},
   "outputs": [],
   "source": [
    "count"
   ]
  },
  {
   "cell_type": "code",
   "execution_count": null,
   "metadata": {},
   "outputs": [],
   "source": []
  },
  {
   "cell_type": "code",
   "execution_count": null,
   "metadata": {},
   "outputs": [],
   "source": []
  }
 ],
 "metadata": {
  "kernelspec": {
   "display_name": "Python 3",
   "language": "python",
   "name": "python3"
  },
  "language_info": {
   "codemirror_mode": {
    "name": "ipython",
    "version": 3
   },
   "file_extension": ".py",
   "mimetype": "text/x-python",
   "name": "python",
   "nbconvert_exporter": "python",
   "pygments_lexer": "ipython3",
   "version": "3.6.5"
  }
 },
 "nbformat": 4,
 "nbformat_minor": 4
}
