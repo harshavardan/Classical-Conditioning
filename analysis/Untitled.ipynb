{
 "cells": [
  {
   "cell_type": "code",
   "execution_count": 1,
   "metadata": {},
   "outputs": [],
   "source": [
    "import matplotlib.pyplot as plt"
   ]
  },
  {
   "cell_type": "code",
   "execution_count": 3,
   "metadata": {},
   "outputs": [],
   "source": [
    "time = [300000.0,329198.0,353531.0,375102.0,398640.0,420638.0,442099.0,467805.0,491821.0,520565.0,548867.0,569775.0,599392.0,\n",
    "        621030.0,646876.0,674722.0,696560.0,722716.0,750183.0,770961.0,792231.0,821117.0,849229.0,873563.0,894740.0,923554.0,\n",
    "        947860.0,974217.0,994732.0,1019220.0,1042759.0,1064418.0,1093167.0,1113284.0,1135174.0,1155573.0,1184739.0,1210011.0,\n",
    "        1239880.0,1265799.0,1289106.0,1316474.0,1338586.0,1365486.0,1395054.0,1415198.0,1437077.0,1462609.0,1482709.0,1512445.0,\n",
    "        1538955.0,1567643.0,1591424.0,1618562.0,1640513.0,1661812.0,1691207.0,1720539.0,1750246.0,1777383.0,1800741.0,1824394.0,\n",
    "        1851154.0,1871841.0,1896307.0,1917413.0,1938525.0,1965668.0,1990058.0,2014910.0,2037760.0,2062328.0,2087629.0,2110363.0,\n",
    "        2133007.0,2153745.0,2177887.0,2203688.0,2231723.0,2257988.0,2287125.0,2311104.0,2340105.0,2368378.0,2394621.0,2416044.0,\n",
    "        2437396.0,2462147.0,2490083.0,2516163.0,2538424.0,2565419.0,2586568.0,2611112.0,2632658.0,2658757.0,2684646.0,2710333.0,\n",
    "        2734770.0,2757747.0,2785141.0,2811567.0,2834584.0,2864459.0,2891594.0,2916126.0,2976126.0,2996170.0,3020075.2,3047060.5,\n",
    "        3073108.0]"
   ]
  },
  {
   "cell_type": "code",
   "execution_count": 5,
   "metadata": {},
   "outputs": [],
   "source": [
    "diff = []\n",
    "\n",
    "for i in range(1, len(time)):\n",
    "    diff.append(time[i] - time[i - 1])"
   ]
  },
  {
   "cell_type": "code",
   "execution_count": 9,
   "metadata": {},
   "outputs": [
    {
     "data": {
      "text/plain": [
       "(20000, 35000)"
      ]
     },
     "execution_count": 9,
     "metadata": {},
     "output_type": "execute_result"
    },
    {
     "data": {
      "image/png": "[encoded data removed]",
      "text/plain": [
       "<Figure size 432x288 with 1 Axes>"
      ]
     },
     "metadata": {},
     "output_type": "display_data"
    }
   ],
   "source": [
    "plt.hist(diff)\n",
    "plt.xlim(15000, 35000)"
   ]
  },
  {
   "cell_type": "code",
   "execution_count": null,
   "metadata": {},
   "outputs": [],
   "source": []
  }
 ],
 "metadata": {
  "kernelspec": {
   "display_name": "Python 3",
   "language": "python",
   "name": "python3"
  },
  "language_info": {
   "codemirror_mode": {
    "name": "ipython",
    "version": 3
   },
   "file_extension": ".py",
   "mimetype": "text/x-python",
   "name": "python",
   "nbconvert_exporter": "python",
   "pygments_lexer": "ipython3",
   "version": "3.6.5"
  }
 },
 "nbformat": 4,
 "nbformat_minor": 2
}
