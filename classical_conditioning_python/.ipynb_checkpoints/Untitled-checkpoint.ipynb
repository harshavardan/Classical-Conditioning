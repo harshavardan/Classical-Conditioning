{
 "cells": [
  {
   "cell_type": "code",
   "execution_count": 3,
   "metadata": {},
   "outputs": [
    {
     "name": "stderr",
     "output_type": "stream",
     "text": [
      "usage: ipykernel_launcher.py [-h] [--ip IP] [--port PORT]\n",
      "ipykernel_launcher.py: error: unrecognized arguments: -f /home/harshavardan/.local/share/jupyter/runtime/kernel-78affbeb-fb22-4b75-8d78-5a06a26dd3d2.json\n"
     ]
    },
    {
     "ename": "SystemExit",
     "evalue": "2",
     "output_type": "error",
     "traceback": [
      "An exception has occurred, use %tb to see the full traceback.\n",
      "\u001b[0;31mSystemExit\u001b[0m\u001b[0;31m:\u001b[0m 2\n"
     ]
    }
   ],
   "source": [
    "\"\"\"Small example OSC client\n",
    " \n",
    "This program sends 10 random values between 0.0 and 1.0 to the /filter address,\n",
    "waiting for 1 seconds between each value.\n",
    "\"\"\"\n",
    "import argparse\n",
    "import random\n",
    "import time\n",
    " \n",
    "from pythonosc import osc_message_builder\n",
    "from pythonosc import udp_client\n",
    " \n",
    " \n",
    "if __name__ == \"__main__\":\n",
    "  parser = argparse.ArgumentParser()\n",
    "  parser.add_argument(\"--ip\", default=\"127.0.0.1\",\n",
    "      help=\"The ip of the OSC server\")\n",
    "  parser.add_argument(\"--port\", type=int, default=2323,\n",
    "      help=\"The port the OSC server is listening on\")\n",
    "  args = parser.parse_args()\n",
    " \n",
    "  client = udp_client.SimpleUDPClient(args.ip, args.port)\n",
    " \n",
    "  for x in range(10):\n",
    "    client.send_message(\"/filter\", random.random())\n",
    "    time.sleep(1) "
   ]
  }
 ],
 "metadata": {
  "kernelspec": {
   "display_name": "Python 3",
   "language": "python",
   "name": "python3"
  },
  "language_info": {
   "codemirror_mode": {
    "name": "ipython",
    "version": 3
   },
   "file_extension": ".py",
   "mimetype": "text/x-python",
   "name": "python",
   "nbconvert_exporter": "python",
   "pygments_lexer": "ipython3",
   "version": "3.6.9"
  }
 },
 "nbformat": 4,
 "nbformat_minor": 4
}
