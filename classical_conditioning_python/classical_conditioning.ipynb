{
 "cells": [
  {
   "cell_type": "code",
   "execution_count": 1,
   "metadata": {
    "scrolled": true
   },
   "outputs": [
    {
     "name": "stdout",
     "output_type": "stream",
     "text": [
      "importing Jupyter notebook from functions.ipynb\n"
     ]
    }
   ],
   "source": [
    "import pyfirmata\n",
    "import time\n",
    "import serial\n",
    "import import_ipynb\n",
    "import functions\n",
    "import random\n",
    "import argparse\n",
    "import matplotlib.pyplot as plt\n",
    "from pythonosc import udp_client\n",
    "import csv"
   ]
  },
  {
   "cell_type": "code",
   "execution_count": 2,
   "metadata": {},
   "outputs": [],
   "source": [
    "#board = pyfirmata.Arduino('COM7')\n",
    "init_time = time.time()"
   ]
  },
  {
   "cell_type": "code",
   "execution_count": 3,
   "metadata": {},
   "outputs": [],
   "source": [
    "parser = argparse.ArgumentParser()\n"
   ]
  },
  {
   "cell_type": "code",
   "execution_count": 4,
   "metadata": {},
   "outputs": [],
   "source": [
    "#fish information\n",
    "\n",
    "genotype = \"ind_wt\"\n",
    "age = 7\n",
    "fish_id = \"F1\"\n",
    "control = False #is it a randomized control experiment?"
   ]
  },
  {
   "cell_type": "code",
   "execution_count": 5,
   "metadata": {},
   "outputs": [],
   "source": [
    "#parameters\n",
    "\n",
    "scaling = 1 #used for troubleshooting\n",
    "\n",
    "cs_dur = 4 / scaling #seconds\n",
    "us_dur = 0.01 #seconds\n",
    "isi = 0.5 #position of us within cs\n",
    "min_iti = 10 / scaling #seconds\n",
    "max_iti = 15 / scaling #seconds\n",
    "init_delay = 5 / scaling #seconds\n",
    "pre_cs = 10\n",
    "pre_us = 0\n",
    "training = 0\n",
    "probe = 0\n",
    "no_trials = pre_cs + pre_us + training\n",
    "cs_pin = 13\n",
    "us_pin = 10"
   ]
  },
  {
   "cell_type": "code",
   "execution_count": 6,
   "metadata": {},
   "outputs": [],
   "source": [
    "#saving stuff\n",
    "\n",
    "data = [[\"pre_cs_times\", \"pre_us_times\", \"training_times\"],[],[],[]]"
   ]
  },
  {
   "cell_type": "code",
   "execution_count": 7,
   "metadata": {},
   "outputs": [],
   "source": [
    "time.sleep(init_delay)\n",
    "\n",
    "timing = functions.generate_timing(pre_cs, pre_us, training, min_iti, max_iti, control)\n",
    "\n",
    "#pre training responses to CS\n",
    "\n",
    "for i in range(0, pre_cs):\n",
    "    time.sleep(timing[i])\n",
    "    data[1].append(float(time.time() - init_time))\n",
    "    functions.cs(cs_dur, cs_pin)\n",
    "    data[1].append(float(time.time() - init_time))\n",
    "    \n",
    "#pre training responses to US\n",
    "\n",
    "for i in range(pre_cs, pre_cs + pre_us):\n",
    "    time.sleep(timing[i])\n",
    "    data[2].append(float(time.time() - init_time))\n",
    "    functions.us(us_dur, us_pin)\n",
    "    data[2].append(float(time.time() - init_time))\n",
    "    \n",
    "#training or control protocol\n",
    "\n",
    "probe_trials = functions.generate_probe(probe, training, pre_cs, pre_us)\n",
    "\n",
    "for i in range(pre_cs + pre_us, no_trials):\n",
    "    if control:\n",
    "        if random.random(0, 1) == 0:\n",
    "            time.sleep(timing[i])\n",
    "            data[3].append(float(time.time() - init_time))\n",
    "            functions.cs(cs_dur, cs_pin)\n",
    "            data[3].append(float(time.time() - init_time))\n",
    "        else:\n",
    "            time.sleep(timing[i])\n",
    "            data[3].append(float(time.time() - init_time))\n",
    "            functions.us(us_dur, us_pin)\n",
    "            data[3].append(float(time.time() - init_time))\n",
    "    else:\n",
    "        if i in probe_trials:\n",
    "            time.sleep(timing[i])\n",
    "            data[3].append(float(time.time() - init_time))\n",
    "            functions.cs(cs_dur, cs_pin)\n",
    "            data[3].append(float(time.time() - init_time))\n",
    "            continue\n",
    "        else:\n",
    "            time.sleep(timing[i])\n",
    "            data[3].append(float(time.time() - init_time))\n",
    "            functions.train(cs_dur, us_dur, isi, cs_pin, us_pin)\n",
    "            data[3].append(float(time.time() - init_time))"
   ]
  },
  {
   "cell_type": "code",
   "execution_count": 8,
   "metadata": {},
   "outputs": [],
   "source": [
    "#writing stuff\n",
    "\n",
    "for i in range(0, len(data[0])):\n",
    "    with open(data[0][i] + \".csv\", 'w') as myfile:\n",
    "        write = csv.writer(myfile, quoting=csv.QUOTE_ALL)\n",
    "        write.writerow(data[i + 1])"
   ]
  },
  {
   "cell_type": "code",
   "execution_count": null,
   "metadata": {},
   "outputs": [],
   "source": []
  },
  {
   "cell_type": "code",
   "execution_count": null,
   "metadata": {},
   "outputs": [],
   "source": []
  }
 ],
 "metadata": {
  "kernelspec": {
   "display_name": "Python 3",
   "language": "python",
   "name": "python3"
  },
  "language_info": {
   "codemirror_mode": {
    "name": "ipython",
    "version": 3
   },
   "file_extension": ".py",
   "mimetype": "text/x-python",
   "name": "python",
   "nbconvert_exporter": "python",
   "pygments_lexer": "ipython3",
   "version": "3.6.5"
  }
 },
 "nbformat": 4,
 "nbformat_minor": 4
}
