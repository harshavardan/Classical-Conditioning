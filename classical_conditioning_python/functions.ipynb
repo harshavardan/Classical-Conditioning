{
 "cells": [
  {
   "cell_type": "code",
   "execution_count": 8,
   "metadata": {},
   "outputs": [],
   "source": [
    "import random\n",
    "import time\n",
    "import pyfirmata\n",
    "import matplotlib.pyplot as plt"
   ]
  },
  {
   "cell_type": "code",
   "execution_count": 2,
   "metadata": {},
   "outputs": [],
   "source": [
    "board = pyfirmata.Arduino('/dev/ttyUSB0')"
   ]
  },
  {
   "cell_type": "code",
   "execution_count": 3,
   "metadata": {},
   "outputs": [],
   "source": [
    "#function to deliver a training trial\n",
    "\n",
    "def train(cs_dur = 2, us_dur = 0.01, isi = 0.5, cs_pin = 10, us_pin = 13):\n",
    "    \n",
    "    board.digital[cs_pin].write(1)\n",
    "    time.sleep(cs_dur * isi)\n",
    "    board.digital[us_pin].write(1)\n",
    "    time.sleep(us_dur)\n",
    "    board.digital[us_pin].write(0)\n",
    "    time.sleep(cs_dur * isi - us_dur)\n",
    "    board.digital[cs_pin].write(0)"
   ]
  },
  {
   "cell_type": "code",
   "execution_count": 4,
   "metadata": {},
   "outputs": [],
   "source": [
    "#function to deliver cs\n",
    "\n",
    "def cs(cs_dur = 2, cs_pin = 10):\n",
    "    \n",
    "    board.digital[cs_pin].write(1)\n",
    "    time.sleep(cs_dur)\n",
    "    board.digital[cs_pin].write(0)"
   ]
  },
  {
   "cell_type": "code",
   "execution_count": 5,
   "metadata": {},
   "outputs": [],
   "source": [
    "#function to deliver us\n",
    "\n",
    "def us(us_dur = 0.01, us_pin = 10):\n",
    "    \n",
    "    board.digital[us_pin].write(1)\n",
    "    time.sleep(us_dur)\n",
    "    board.digital[us_pin].write(0)"
   ]
  },
  {
   "cell_type": "code",
   "execution_count": 6,
   "metadata": {},
   "outputs": [],
   "source": [
    "#function to generate timing\n",
    "\n",
    "def generate_timing(pre_cs = 10, pre_us = 10, training = 100, \n",
    "                    min_iti = 45, max_iti = 75, control = False):\n",
    "\n",
    "    timing=[]\n",
    "    \n",
    "    for i in range(0, pre_cs + pre_us):\n",
    "        timing.append(random.random() * (max_iti - min_iti) + min_iti)\n",
    "        \n",
    "    if control:\n",
    "        for i in range(0, training * 2):\n",
    "            timing.append(timing[len(timing) - 1] + random.random() * (min_iti + max_iti) / 2)\n",
    "    else:\n",
    "        for i in range(0, training):\n",
    "            timing.append(random.random() * (max_iti - min_iti) + min_iti)\n",
    "        \n",
    "    return(timing)"
   ]
  },
  {
   "cell_type": "code",
   "execution_count": 10,
   "metadata": {},
   "outputs": [],
   "source": [
    "def generate_probe(probe, training, pre_cs, pre_us):\n",
    "    \n",
    "    probe_trials = random.sample(range(pre_cs + pre_us, pre_cs + pre_us + training - 1), probe)\n",
    "    return(probe_trials)\n",
    "    "
   ]
  },
  {
   "cell_type": "code",
   "execution_count": 9,
   "metadata": {},
   "outputs": [
    {
     "data": {
      "text/plain": [
       "list"
      ]
     },
     "execution_count": 9,
     "metadata": {},
     "output_type": "execute_result"
    }
   ],
   "source": [
    "type(random.sample([1,2,3,4,5,6,7,8,9], 3))"
   ]
  }
 ],
 "metadata": {
  "kernelspec": {
   "display_name": "Python 3",
   "language": "python",
   "name": "python3"
  },
  "language_info": {
   "codemirror_mode": {
    "name": "ipython",
    "version": 3
   },
   "file_extension": ".py",
   "mimetype": "text/x-python",
   "name": "python",
   "nbconvert_exporter": "python",
   "pygments_lexer": "ipython3",
   "version": "3.7.6"
  }
 },
 "nbformat": 4,
 "nbformat_minor": 4
}
