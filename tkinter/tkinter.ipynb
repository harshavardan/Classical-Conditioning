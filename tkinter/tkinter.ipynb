{
 "cells": [
  {
   "cell_type": "code",
   "execution_count": 2,
   "metadata": {},
   "outputs": [],
   "source": [
    "import tkinter as tk"
   ]
  },
  {
   "cell_type": "code",
   "execution_count": 3,
   "metadata": {},
   "outputs": [
    {
     "data": {
      "text/plain": [
       "''"
      ]
     },
     "execution_count": 3,
     "metadata": {},
     "output_type": "execute_result"
    }
   ],
   "source": [
    "master = tk.Tk()\n",
    "master.title(\"Classical Conditioning\")"
   ]
  },
  {
   "cell_type": "code",
   "execution_count": 4,
   "metadata": {},
   "outputs": [],
   "source": [
    "parameters = []\n",
    "\n",
    "def show_parameters():\n",
    "    for i in range(0, len(fields)):\n",
    "            print(parameters[i].get())"
   ]
  },
  {
   "cell_type": "code",
   "execution_count": 5,
   "metadata": {},
   "outputs": [],
   "source": [
    "fields = [\"Fish id:\", \"Genotype:\", \"Age:\", \"CS duration (s):\", \"US duration (s):\", \"ISI:\",\n",
    "        \"Initial delay (s):\", \"Max. ITI (s):\", \"Min. ITI (s):\", \"Pre training CS trials:\", \n",
    "        \"Pre training US trials:\", \"Training trials:\", \"Probe trials\"]"
   ]
  },
  {
   "cell_type": "code",
   "execution_count": 6,
   "metadata": {},
   "outputs": [],
   "source": [
    "x = 0\n",
    "y = 0\n",
    "\n",
    "for i in range(0, len(fields)):\n",
    "    tk.Label(master, text = fields[i]).grid(row = x, column = y)\n",
    "    x += 1\n",
    "    if i % 5 == 0:\n",
    "        x = 0\n",
    "        y += 2\n",
    "\n",
    "x = 0\n",
    "y = 1\n",
    "\n",
    "for i in range(0, len(fields)):\n",
    "    parameters.append(tk.Entry(master))\n",
    "    parameters[i].grid(row = x, column = y)\n",
    "    x += 1\n",
    "    if i % 5 == 0:\n",
    "        x = 0\n",
    "        y += 2\n",
    "\n",
    "\n",
    "tk.Button(master, text = \"Quit\", command = master.quit).grid(row = 10, column = 0)\n",
    "tk.Button(master, text = \"Run\", command = show_parameters).grid(row = 10, column = 1)\n",
    "\n",
    "tk.mainloop()"
   ]
  }
 ],
 "metadata": {
  "kernelspec": {
   "display_name": "Python 3",
   "language": "python",
   "name": "python3"
  },
  "language_info": {
   "codemirror_mode": {
    "name": "ipython",
    "version": 3
   },
   "file_extension": ".py",
   "mimetype": "text/x-python",
   "name": "python",
   "nbconvert_exporter": "python",
   "pygments_lexer": "ipython3",
   "version": "3.6.9"
  }
 },
 "nbformat": 4,
 "nbformat_minor": 2
}
